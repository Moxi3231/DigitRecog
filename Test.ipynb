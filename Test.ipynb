{
 "cells": [
  {
   "cell_type": "code",
   "execution_count": 1,
   "id": "8d0a1518",
   "metadata": {},
   "outputs": [],
   "source": [
    "import tensorflow as tf\n",
    "from keras.datasets import mnist\n",
    "\n",
    "import numpy as np\n",
    "import matplotlib.pyplot as plt"
   ]
  },
  {
   "cell_type": "code",
   "execution_count": 2,
   "id": "13a905bf",
   "metadata": {},
   "outputs": [],
   "source": [
    "(train_x,train_y),(test_x,test_y) = mnist.load_data()\n",
    "train_x,test_x = np.expand_dims(train_x,axis=-1),np.expand_dims(test_x,axis=-1)\n",
    "train_x,test_x = train_x.astype(dtype=np.float32),test_x.astype(dtype=np.float32)\n",
    "\n",
    "temp_x = np.zeros((train_y.size,train_y.max()+1))\n",
    "temp_x[np.arange(train_y.size),train_y] = 1\n",
    "train_y = temp_x"
   ]
  },
  {
   "cell_type": "code",
   "execution_count": 12,
   "id": "15e9743c",
   "metadata": {},
   "outputs": [
    {
     "data": {
      "image/png": "[encoded data removed]",
      "text/plain": [
       "<Figure size 640x480 with 9 Axes>"
      ]
     },
     "metadata": {},
     "output_type": "display_data"
    }
   ],
   "source": [
    "fig,ax = plt.subplots(3,3)\n",
    "for i in range(3):\n",
    "    for j in range(3):\n",
    "        img = np.squeeze(train_x[i*(j+1)])\n",
    "        img = np.rot90(img)\n",
    "        img = np.rot90(img)\n",
    "        ax[i,j].imshow(img,cmap=\"Greys\")\n",
    "        ax[i,j].text(2,3,np.argmax(train_y[i*(j+1)]))"
   ]
  },
  {
   "cell_type": "code",
   "execution_count": 13,
   "id": "f7a8a865",
   "metadata": {},
   "outputs": [],
   "source": [
    "model = tf.keras.Sequential([\n",
    "    tf.keras.layers.Conv2D(filters=1,kernel_size=(5,5),activation=tf.keras.activations.relu),\n",
    "    tf.keras.layers.MaxPool2D(pool_size=(2,2)),\n",
    "    tf.keras.layers.Conv2D(filters=1,kernel_size=(3,3),activation=tf.keras.activations.relu),\n",
    "    tf.keras.layers.MaxPool2D(pool_size=(2,2)),\n",
    "    tf.keras.layers.Flatten(),\n",
    "    tf.keras.layers.Dense(128,activation=tf.keras.activations.relu),\n",
    "    tf.keras.layers.Dense(10,activation=tf.keras.activations.softmax)\n",
    "])\n",
    "learning_rate_fn = tf.keras.optimizers.schedules.PolynomialDecay(1e-2, 100000, 1e-6, power=0.95)\n",
    "model.compile(optimizer= tf.keras.optimizers.Adam(learning_rate=learning_rate_fn, clipnorm=1.0, epsilon=1e-08),\n",
    "                loss=tf.keras.losses.categorical_crossentropy,\n",
    "                metrics=[\n",
    "    tf.keras.metrics.Recall(),\n",
    "    tf.keras.metrics.Precision()\n",
    "])"
   ]
  },
  {
   "cell_type": "code",
   "execution_count": 21,
   "id": "e4e45f26",
   "metadata": {},
   "outputs": [
    {
     "name": "stdout",
     "output_type": "stream",
     "text": [
      "1875/1875 [==============================] - 4s 2ms/step - loss: 0.3272 - recall: 0.8885 - precision: 0.9193\n"
     ]
    },
    {
     "data": {
      "text/plain": [
       "<keras.callbacks.History at 0x29922fcd0>"
      ]
     },
     "execution_count": 21,
     "metadata": {},
     "output_type": "execute_result"
    }
   ],
   "source": [
    "model.fit(train_x,train_y)"
   ]
  },
  {
   "cell_type": "code",
   "execution_count": 20,
   "id": "a7f49ef6",
   "metadata": {},
   "outputs": [
    {
     "name": "stdout",
     "output_type": "stream",
     "text": [
      "313/313 [==============================] - 0s 1ms/step\n"
     ]
    },
    {
     "data": {
      "text/plain": [
       "(8930,)"
      ]
     },
     "execution_count": 20,
     "metadata": {},
     "output_type": "execute_result"
    }
   ],
   "source": [
    "prd = model.predict(test_x)\n",
    "p = np.argmax(prd,axis=1)\n",
    "\n",
    "np.where(p==test_y)[0].shape"
   ]
  },
  {
   "cell_type": "code",
   "execution_count": null,
   "id": "86d64221",
   "metadata": {},
   "outputs": [],
   "source": []
  }
 ],
 "metadata": {
  "kernelspec": {
   "display_name": "Python 3 (ipykernel)",
   "language": "python",
   "name": "python3"
  },
  "language_info": {
   "codemirror_mode": {
    "name": "ipython",
    "version": 3
   },
   "file_extension": ".py",
   "mimetype": "text/x-python",
   "name": "python",
   "nbconvert_exporter": "python",
   "pygments_lexer": "ipython3",
   "version": "3.9.16"
  }
 },
 "nbformat": 4,
 "nbformat_minor": 5
}
